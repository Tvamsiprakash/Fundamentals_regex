{
 "cells": [
  {
   "cell_type": "markdown",
   "id": "c8fe34a1-cefd-4380-8106-202973bca106",
   "metadata": {},
   "source": [
    "## REGEX FUNDAMENTALS"
   ]
  },
  {
   "cell_type": "markdown",
   "id": "5c4d03e1-a0b0-4d51-b4d5-b558095210da",
   "metadata": {},
   "source": [
    "#### Basic Pattern Matching"
   ]
  },
  {
   "cell_type": "code",
   "execution_count": 6,
   "id": "6fc002f6-3a2f-416e-8f45-6f782fdcb913",
   "metadata": {},
   "outputs": [
    {
     "name": "stdout",
     "output_type": "stream",
     "text": [
      "['Bhubaneswar']\n"
     ]
    }
   ],
   "source": [
    "import re\n",
    "text1 = \"My name is Vamsi, I am from IIT Bhubaneswar\"\n",
    "text2 = r\"Bhubaneswar\"\n",
    "matches = re.findall(text2, text1)\n",
    "print(matches)"
   ]
  },
  {
   "cell_type": "markdown",
   "id": "98e91aa6-ef6f-47e3-ac4b-05b4769ba5f8",
   "metadata": {},
   "source": [
    "text = \"I started Learning learning regex fundas\"\n",
    "pattern = r\"[Ll]earning\" # matches Learing or learning\n",
    "matches = re.findall(pattern, text)\n",
    "print(matches)"
   ]
  },
  {
   "cell_type": "code",
   "execution_count": 20,
   "id": "83c8d350-70d0-43c0-bbbf-6bf60199d1fe",
   "metadata": {},
   "outputs": [
    {
     "name": "stdout",
     "output_type": "stream",
     "text": [
      "['color', 'colour', 'colours', 'colors']\n"
     ]
    }
   ],
   "source": [
    "text = \"color, colour, colours, colors, colos, colrs, cs\"\n",
    "pattern = r\"colou?rs?\"\n",
    "matches = re.findall(pattern, text)\n",
    "print(matches)"
   ]
  },
  {
   "cell_type": "markdown",
   "id": "2f8f8319-7e3e-4e0b-84fe-8340398dea91",
   "metadata": {},
   "source": [
    "#### Speacial Characters and Anchors\n"
   ]
  },
  {
   "cell_type": "markdown",
   "id": "47a3961c-912a-41e4-aaa0-573fdb0f58be",
   "metadata": {},
   "source": [
    "##### start and end anchors"
   ]
  },
  {
   "cell_type": "code",
   "execution_count": 22,
   "id": "9b6a2836-00bc-42e4-957f-c2083c8d31c2",
   "metadata": {},
   "outputs": [
    {
     "name": "stdout",
     "output_type": "stream",
     "text": [
      "True\n",
      "False\n",
      "True\n"
     ]
    }
   ],
   "source": [
    "texts = [\"hello World\", \"world hello\", \"hello\"]\n",
    "pattern = r\"^hello\"\n",
    "for text in texts:\n",
    "    print(bool(re.search(pattern, text)))"
   ]
  },
  {
   "cell_type": "code",
   "execution_count": 25,
   "id": "9a5fb8d9-a945-4760-be49-6e8bcd8b53e2",
   "metadata": {},
   "outputs": [
    {
     "name": "stdout",
     "output_type": "stream",
     "text": [
      "['cat']\n"
     ]
    }
   ],
   "source": [
    "text = \"The cat scattered his food all over the room.\"\n",
    "pattern = r\"\\bcat\\b\"  # Matches 'cat' but not 'scattered'\n",
    "matches = re.findall(pattern, text)\n",
    "print(matches)  "
   ]
  },
  {
   "cell_type": "code",
   "execution_count": 38,
   "id": "59fcd3d6-db6f-4b2e-a28a-1323e7ff0ebc",
   "metadata": {},
   "outputs": [
    {
     "name": "stdout",
     "output_type": "stream",
     "text": [
      "[('28', '02', '2005', '', '', ''), ('28', '03', '2009', '', '', ''), ('24', '05', '2000', '', '', ''), ('', '', '', '28', '02', '2007')]\n"
     ]
    }
   ],
   "source": [
    "text = \"My date of birth is 28-02-2005 , 28-03-2009, 24-05-2000 or 28/02/2007\"\n",
    "pattern = r\"(\\d{2})-(\\d{2})-(\\d{4})|(\\d{2})/(\\d{2})/(\\d{4})\" ##extracting dates\n",
    "matches = re.findall(pattern , text)\n",
    "print(matches)"
   ]
  },
  {
   "cell_type": "markdown",
   "id": "8aa21bb1-43cf-41f8-aa2c-ca20b41f47ca",
   "metadata": {},
   "source": [
    "#### Positive Lookahead "
   ]
  },
  {
   "cell_type": "code",
   "execution_count": 39,
   "id": "2a418631-05c9-476c-a6fc-1506b6a22e72",
   "metadata": {},
   "outputs": [
    {
     "name": "stdout",
     "output_type": "stream",
     "text": [
      "['100']\n"
     ]
    }
   ],
   "source": [
    "text = \"100 dollars, 200 euros, 300 yen\"\n",
    "pattern = r\"\\d+(?=\\s*dollars)\"  # Numbers followed by 'dollars'\n",
    "matches = re.findall(pattern, text)\n",
    "print(matches) "
   ]
  },
  {
   "cell_type": "code",
   "execution_count": 43,
   "id": "45453276-8517-4a32-a9a8-a9fc4b788cce",
   "metadata": {},
   "outputs": [
    {
     "name": "stdout",
     "output_type": "stream",
     "text": [
      "['$200', '$50']\n"
     ]
    }
   ],
   "source": [
    "text = \"paid $100, received $200, lost $50\"\n",
    "pattern = r\"(?<!paid\\s)\\$\\d+\"\n",
    "matches = re.findall(pattern, text)\n",
    "print(matches)"
   ]
  },
  {
   "cell_type": "code",
   "execution_count": 44,
   "id": "96cc3e0f-987c-45f9-8149-e0b20c198514",
   "metadata": {},
   "outputs": [
    {
     "name": "stdout",
     "output_type": "stream",
     "text": [
      "['Mr. O', 'Neill said', ' ', 'Don', 't worry!', ' ', 'It', 's fine.']\n"
     ]
    }
   ],
   "source": [
    "import re\n",
    "\n",
    "text = \"Mr. O'Neill said: 'Don't worry!' (It's fine.)\"\n",
    "pattern = r\"(?<!\\w\\.\\w.)(?<![A-Z][a-z]\\.)(?<=\\.|\\?|\\!)\\s+|[\\\"\\'\\(\\)\\[\\];:,\\–\\-]|\\s+(?=\\-)\"\n",
    "tokens = re.split(pattern, text)\n",
    "print([t for t in tokens if t])\n"
   ]
  },
  {
   "cell_type": "code",
   "execution_count": 45,
   "id": "db468aa2-7fe1-4730-9b4f-8aee00e51389",
   "metadata": {},
   "outputs": [
    {
     "name": "stdout",
     "output_type": "stream",
     "text": [
      "{'email': ['john.doe@example.com'], 'phone': ['555-123-4567'], 'date': ['2023-12-31'], 'name': ['Contact John']}\n"
     ]
    }
   ],
   "source": [
    "text = \"Contact John Doe at john.doe@example.com or call 555-123-4567 by 2023-12-31.\"\n",
    "patterns = {\n",
    "    'email': r'\\b[A-Za-z0-9._%+-]+@[A-Za-z0-9.-]+\\.[A-Z|a-z]{2,}\\b',\n",
    "    'phone': r'\\b\\d{3}[-.]?\\d{3}[-.]?\\d{4}\\b',\n",
    "    'date': r'\\b\\d{4}-\\d{2}-\\d{2}\\b',\n",
    "    'name': r'\\b[A-Z][a-z]+ [A-Z][a-z]+\\b'\n",
    "}\n",
    "\n",
    "entities = {}\n",
    "for entity_type, pattern in patterns.items():\n",
    "    entities[entity_type] = re.findall(pattern, text)\n",
    "\n",
    "print(entities)"
   ]
  },
  {
   "cell_type": "code",
   "execution_count": 49,
   "id": "60546310-a509-47bc-b10f-787d5ef4589e",
   "metadata": {},
   "outputs": [
    {
     "name": "stdout",
     "output_type": "stream",
     "text": [
      "<re.Match object; span=(0, 16), match='eshant@gmail.com'>\n"
     ]
    }
   ],
   "source": [
    "mail2='eshant@gmail.com'\n",
    "p=r'[A-Za-z0-9.]+@[\\w]+.\\w{3}'\n",
    "print(re.search(p,mail2))"
   ]
  },
  {
   "cell_type": "code",
   "execution_count": 51,
   "id": "3fd747da-5433-4539-afe3-9f6d0bf5d6f7",
   "metadata": {},
   "outputs": [
    {
     "name": "stdout",
     "output_type": "stream",
     "text": [
      "['Eshant ', ' is happ', 'y ']\n",
      "Eshant  is happy \n"
     ]
    }
   ],
   "source": [
    "txt=\"Eshant $ is happ@y !,\"\n",
    "print(re.findall('[^!,$@]+',txt))\n",
    "print(''.join(re.findall('[^!,$@]+',txt)))"
   ]
  },
  {
   "cell_type": "code",
   "execution_count": 52,
   "id": "64cedfb4-e05b-4cb1-8d2b-a394d91c5012",
   "metadata": {},
   "outputs": [
    {
     "name": "stdout",
     "output_type": "stream",
     "text": [
      "I'm Ashish and \n"
     ]
    },
    {
     "name": "stderr",
     "output_type": "stream",
     "text": [
      "<>:2: SyntaxWarning: invalid escape sequence '\\D'\n",
      "<>:2: SyntaxWarning: invalid escape sequence '\\D'\n",
      "C:\\Users\\vamsi\\AppData\\Local\\Temp\\ipykernel_22212\\2356277874.py:2: SyntaxWarning: invalid escape sequence '\\D'\n",
      "  print(''.join(re.findall('\\D',txt)))\n"
     ]
    }
   ],
   "source": [
    "txt=\"I'm Ashish and 24\"\n",
    "print(''.join(re.findall('\\D',txt)))"
   ]
  },
  {
   "cell_type": "code",
   "execution_count": 56,
   "id": "79201064-d893-46e6-9b8f-15147cec3927",
   "metadata": {},
   "outputs": [
    {
     "name": "stdout",
     "output_type": "stream",
     "text": [
      "<re.Match object; span=(0, 14), match='eshant@gfg.org'>\n",
      "None\n"
     ]
    }
   ],
   "source": [
    "mail1='eshant@gfg.org'\n",
    "mail2='eshant@gmail.com'\n",
    "p='[A-Za-z0-2]+@(gfg).(org)'\n",
    "print(re.search(p,mail1))\n",
    "print(re.search(p,mail2))"
   ]
  },
  {
   "cell_type": "code",
   "execution_count": 60,
   "id": "7ce8a58f-29ce-4721-895f-dee99cd0ead0",
   "metadata": {},
   "outputs": [
    {
     "name": "stdout",
     "output_type": "stream",
     "text": [
      "<re.Match object; span=(0, 14), match='eshant@gfg.org'>\n",
      "<re.Match object; span=(0, 14), match='eshant@gfg.net'>\n",
      "None\n"
     ]
    }
   ],
   "source": [
    "mail1=\"eshant@gfg.org\"\n",
    "mail2=\"eshant@gfg.net\"\n",
    "mail3=\"eshant@gmail.com\"\n",
    "p=\"[A-Za-z0-2]+@(gfg).(org|net|in)\"\n",
    "print(re.search(p,mail1))\n",
    "print(re.search(p,mail2))\n",
    "print(re.search(p,mail3))"
   ]
  },
  {
   "cell_type": "markdown",
   "id": "5f501d8f-8f00-48c5-9762-937e20942de9",
   "metadata": {},
   "source": [
    "#### Email Extracation"
   ]
  },
  {
   "cell_type": "code",
   "execution_count": 63,
   "id": "1141b40d-1288-4153-b8c3-bd0410ce843b",
   "metadata": {},
   "outputs": [
    {
     "name": "stdout",
     "output_type": "stream",
     "text": [
      "['eshant', 'eshant', 'eshant', 'eshant', 'esh', 'esh', 'eshant']\n",
      "['gmail', 'gfg', 'yahoo', 'aap', 'geeksforgeeks', 'mail', 'orkut']\n",
      "['com', 'org', 'com', 'gov.in', 'com', 'com', 'com']\n"
     ]
    }
   ],
   "source": [
    "\n",
    "# List of email addresses\n",
    "mails = ['eshant@gmail.com','eshant@gfg.org','eshant@yahoo.com','eshant@aap.gov.in','esh@geeksforgeeks.com','esh@mail.com','eshant@orkut.com']\n",
    "\n",
    "# Lists to store user id, host name, and domain type\n",
    "user_id = []\n",
    "host_name = []\n",
    "domain_type = []\n",
    "\n",
    "# Loop through each email in the list\n",
    "for mail in mails:\n",
    "    # Extract and append the user id (part before '@')\n",
    "    user_id.append(mail.split('@')[0])\n",
    "    \n",
    "    # Extract and append the host name (part between '@' and first '.')\n",
    "    host_name.append(mail.split('@')[1].split('.')[0])\n",
    "    \n",
    "    # Extract and append the domain type (part after first '.')\n",
    "    domain_type.append('.'.join(mail.split('@')[1].split('.')[1:]))\n",
    "\n",
    "# Print the results\n",
    "print(user_id)  # List of user ids\n",
    "print(host_name)  # List of host names\n",
    "print(domain_type)  # List of domain types"
   ]
  },
  {
   "cell_type": "markdown",
   "id": "a05e8d35-4633-4bec-80c2-00443b54661c",
   "metadata": {},
   "source": [
    "## Processing some Text to extract date and price"
   ]
  },
  {
   "cell_type": "code",
   "execution_count": 64,
   "id": "d15dcf84-db00-4631-8434-37722afbb550",
   "metadata": {},
   "outputs": [
    {
     "name": "stdout",
     "output_type": "stream",
     "text": [
      "Cleaned: Check out URL MENTION Sale ends 2023 12 31 Price 1 299 99 HASHTAG\n",
      "Entities: {'dates': ['2023-12-31'], 'money': ['$1,299.99']}\n"
     ]
    }
   ],
   "source": [
    "class TextProcessor:\n",
    "    def __init__(self):\n",
    "        self.patterns = {\n",
    "            'url': re.compile(r'https?://(?:[-\\w.]|(?:%[\\da-fA-F]{2}))+[/\\w .-]*/?'),\n",
    "            'hashtag': re.compile(r'#\\w+'),\n",
    "            'mention': re.compile(r'@\\w+'),\n",
    "            'html': re.compile(r'<[^>]+>'),\n",
    "            'special_chars': re.compile(r'[^\\w\\s]'),\n",
    "            'extra_whitespace': re.compile(r'\\s+')\n",
    "        }\n",
    "        \n",
    "    def clean_text(self, text):\n",
    "        text = self.patterns['url'].sub(' URL ', text)\n",
    "        text = self.patterns['hashtag'].sub(' HASHTAG ', text)\n",
    "        text = self.patterns['mention'].sub(' MENTION ', text)\n",
    "        text = self.patterns['html'].sub(' ', text)\n",
    "        text = self.patterns['special_chars'].sub(' ', text)\n",
    "        text = self.patterns['extra_whitespace'].sub(' ', text)\n",
    "        return text.strip()\n",
    "    \n",
    "    def extract_entities(self, text):\n",
    "        entities = {}\n",
    "        entities['dates'] = re.findall(r'\\b\\d{4}-\\d{2}-\\d{2}\\b|\\b\\d{1,2}/\\d{1,2}/\\d{4}\\b', text)\n",
    "        entities['money'] = re.findall(r'\\$\\d+(?:,\\d{3})*(?:\\.\\d{2})?', text)\n",
    "        return entities\n",
    "\n",
    "processor = TextProcessor()\n",
    "sample = \"Check out https://example.com @user! Sale ends 2023-12-31. Price: $1,299.99 #deal\"\n",
    "print(\"Cleaned:\", processor.clean_text(sample))\n",
    "print(\"Entities:\", processor.extract_entities(sample))"
   ]
  },
  {
   "cell_type": "code",
   "execution_count": null,
   "id": "4624382b-4dd2-44c0-835e-2aadbb8da169",
   "metadata": {},
   "outputs": [],
   "source": []
  }
 ],
 "metadata": {
  "kernelspec": {
   "display_name": "Python 3 (ipykernel)",
   "language": "python",
   "name": "python3"
  },
  "language_info": {
   "codemirror_mode": {
    "name": "ipython",
    "version": 3
   },
   "file_extension": ".py",
   "mimetype": "text/x-python",
   "name": "python",
   "nbconvert_exporter": "python",
   "pygments_lexer": "ipython3",
   "version": "3.12.7"
  }
 },
 "nbformat": 4,
 "nbformat_minor": 5
}
